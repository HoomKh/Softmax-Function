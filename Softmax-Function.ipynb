{
 "cells": [
  {
   "cell_type": "code",
   "execution_count": 36,
   "id": "acf94ee4-4502-43e6-b448-6287e73a0980",
   "metadata": {},
   "outputs": [],
   "source": [
    "import numpy as np\n",
    "import matplotlib.pyplot as plt\n",
    "import tensorflow as tf\n",
    "from tensorflow.keras.models import Sequential\n",
    "from tensorflow.keras.layers import Dense\n",
    "from IPython.display import display, Markdown, Latex\n",
    "from sklearn.datasets import make_blobs\n",
    "from matplotlib.widgets import Slider"
   ]
  },
  {
   "cell_type": "code",
   "execution_count": 37,
   "id": "9150c7b7-e653-471f-876f-5b7fb8142824",
   "metadata": {},
   "outputs": [],
   "source": [
    "def my_softmax(z):\n",
    "    ez = np.exp(z)\n",
    "    sm = ez / np.sum(ez)\n",
    "    return(sm)"
   ]
  },
  {
   "cell_type": "code",
   "execution_count": 38,
   "id": "2a5a2125-cfa4-4e5a-a18a-0e38d0f575f1",
   "metadata": {
    "scrolled": true
   },
   "outputs": [
    {
     "name": "stdout",
     "output_type": "stream",
     "text": [
      "X shape is: (2000, 2), Y shape is: (2000,)\n",
      "X type is: <class 'numpy.ndarray'>, Y shape is: <class 'numpy.ndarray'>\n",
      "Top 10 (X):\n",
      "[[ 1.55508243  0.84801682]\n",
      " [-5.33749882  1.03397255]\n",
      " [-4.09353183  0.67843096]\n",
      " [-1.35928349 -1.49568732]\n",
      " [-0.67987836  3.15016353]\n",
      " [ 1.4685845   1.60076541]\n",
      " [-1.06017154 -2.23889878]\n",
      " [-6.05801535  2.46838122]\n",
      " [-1.59902629 -1.70935056]\n",
      " [ 4.27160051 -1.70297395]]\n",
      "\n",
      "Top 10 (Y):\n",
      "[2 0 0 1 2 2 1 0 1 3]\n",
      "\n"
     ]
    }
   ],
   "source": [
    "centers = [[-5, 2], [-2, -2], [1, 2], [5, -2]]\n",
    "X_train, y_train = make_blobs(n_samples=2000, centers=centers, cluster_std=1.0, random_state=30)\n",
    "print(f\"X shape is: {X_train.shape}, Y shape is: {y_train.shape}\")\n",
    "print(f\"X type is: {type(X_train)}, Y shape is: {type(y_train)}\")\n",
    "print(f\"Top 10 (X):\\n{X_train[:10]}\\n\")\n",
    "print(f\"Top 10 (Y):\\n{y_train[:10]}\\n\")"
   ]
  },
  {
   "cell_type": "code",
   "execution_count": 39,
   "id": "2f280367-7fe0-40a2-b132-2f587975b379",
   "metadata": {},
   "outputs": [
    {
     "name": "stdout",
     "output_type": "stream",
     "text": [
      "Epoch 1/10\n",
      "63/63 [==============================] - 0s 872us/step - loss: 0.3062\n",
      "Epoch 2/10\n",
      "63/63 [==============================] - 0s 864us/step - loss: 0.0402\n",
      "Epoch 3/10\n",
      "63/63 [==============================] - 0s 856us/step - loss: 0.0281\n",
      "Epoch 4/10\n",
      "63/63 [==============================] - 0s 856us/step - loss: 0.0244\n",
      "Epoch 5/10\n",
      "63/63 [==============================] - 0s 880us/step - loss: 0.0185\n",
      "Epoch 6/10\n",
      "63/63 [==============================] - 0s 872us/step - loss: 0.0165\n",
      "Epoch 7/10\n",
      "63/63 [==============================] - 0s 880us/step - loss: 0.0196\n",
      "Epoch 8/10\n",
      "63/63 [==============================] - 0s 888us/step - loss: 0.0261\n",
      "Epoch 9/10\n",
      "63/63 [==============================] - 0s 944us/step - loss: 0.0204\n",
      "Epoch 10/10\n",
      "63/63 [==============================] - 0s 892us/step - loss: 0.0143\n"
     ]
    },
    {
     "data": {
      "text/plain": [
       "<keras.callbacks.History at 0x21c974cdd30>"
      ]
     },
     "execution_count": 39,
     "metadata": {},
     "output_type": "execute_result"
    }
   ],
   "source": [
    "model = Sequential(\n",
    "    [\n",
    "        Dense(25, activation = 'relu'),\n",
    "        Dense(15, activation = 'relu'),\n",
    "        Dense(4 , activation = 'softmax')])\n",
    "model.compile(\n",
    "    loss = tf.keras.losses.SparseCategoricalCrossentropy(), \n",
    "    optimizer = tf.keras.optimizers.Adam(0.01))\n",
    "model.fit(\n",
    "    X_train, y_train, epochs = 10)"
   ]
  },
  {
   "cell_type": "code",
   "execution_count": 40,
   "id": "295fceed-f33a-40fd-abfe-f307b72c36e1",
   "metadata": {},
   "outputs": [
    {
     "name": "stdout",
     "output_type": "stream",
     "text": [
      "63/63 [==============================] - 0s 662us/step\n",
      "[[5.9089739e-08 4.0276900e-05 9.9990886e-01 5.0726434e-05]\n",
      " [9.9998814e-01 1.1075232e-05 4.8876973e-07 2.6967777e-07]]\n",
      "largest value 0.99999994 smallest value 9.6284636e-32\n"
     ]
    }
   ],
   "source": [
    "p_nonpreferred = model.predict(X_train)\n",
    "print(p_nonpreferred [:2])\n",
    "print(\"largest value\", np.max(p_nonpreferred), \"smallest value\", np.min(p_nonpreferred))"
   ]
  },
  {
   "cell_type": "code",
   "execution_count": null,
   "id": "f7c5f799-c6fe-43b7-a5cf-8e95b8bd8e2f",
   "metadata": {},
   "outputs": [],
   "source": []
  }
 ],
 "metadata": {
  "kernelspec": {
   "display_name": "Python 3 (ipykernel)",
   "language": "python",
   "name": "python3"
  },
  "language_info": {
   "codemirror_mode": {
    "name": "ipython",
    "version": 3
   },
   "file_extension": ".py",
   "mimetype": "text/x-python",
   "name": "python",
   "nbconvert_exporter": "python",
   "pygments_lexer": "ipython3",
   "version": "3.9.18"
  }
 },
 "nbformat": 4,
 "nbformat_minor": 5
}
